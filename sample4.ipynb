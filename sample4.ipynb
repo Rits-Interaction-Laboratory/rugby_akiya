{
 "cells": [
  {
   "cell_type": "code",
   "execution_count": 1,
   "id": "ff9047fe",
   "metadata": {},
   "outputs": [
    {
     "data": {
      "application/vnd.jupyter.widget-view+json": {
       "model_id": "a7cb875428584e50a20774da59649b90",
       "version_major": 2,
       "version_minor": 0
      },
      "text/plain": [
       "FigureWidget({\n",
       "    'data': [], 'layout': {'template': '...'}\n",
       "})"
      ]
     },
     "metadata": {},
     "output_type": "display_data"
    }
   ],
   "source": [
    "# importing libraries\n",
    "import plotly.graph_objects as go # to make a graph\n",
    "import numpy as np # to generate test data\n",
    "\n",
    "# creating a figure widget. this will be updated in later cells\n",
    "fig = go.FigureWidget()\n",
    "fig "
   ]
  },
  {
   "cell_type": "code",
   "execution_count": 2,
   "id": "316f42c5",
   "metadata": {},
   "outputs": [],
   "source": [
    "# let's add plot. add ; at the end of the code to ommit the output in this cell,\n",
    "# because the figure widget above will be updated instead\n",
    "N = 100 # data size\n",
    "x = np.linspace(0, 20, N)\n",
    "y = np.random.rand(N)\n",
    "\n",
    "fig.add_scatter(x=x, y=y);"
   ]
  },
  {
   "cell_type": "code",
   "execution_count": 3,
   "id": "05ec623e",
   "metadata": {},
   "outputs": [],
   "source": [
    "# to update the plot, take the correct reference by fig.data[i] where i is the order which you added the plot\n",
    "# in this example, let's modefiy the first scatter plot (fig.data[0])\n",
    "\n",
    "# getting reference from the graph\n",
    "first_scatter_plot = fig.data[0] \n",
    "\n",
    "# assine new random values. as soon as this code is excuted, the graph above will be updated. \n",
    "first_scatter_plot.y = np.random.rand(N) \n"
   ]
  },
  {
   "cell_type": "code",
   "execution_count": 4,
   "id": "2dd892b1",
   "metadata": {},
   "outputs": [],
   "source": [
    "# let's update both title and the y data at the same time\n",
    "FRAME = 1000 # how many times which update the graph\n",
    "first_scatter_plot = fig.data[0] # getting reference from the graph\n",
    "\n",
    "for i in range(FRAME):\n",
    "    first_scatter_plot.y = np.random.rand(N) # updating y data\n",
    "    fig.update_layout(title=f'FRAME: {i + 1}');"
   ]
  }
 ],
 "metadata": {
  "kernelspec": {
   "display_name": "pj_scraping",
   "language": "python",
   "name": "pj_scraping"
  },
  "language_info": {
   "codemirror_mode": {
    "name": "ipython",
    "version": 3
   },
   "file_extension": ".py",
   "mimetype": "text/x-python",
   "name": "python",
   "nbconvert_exporter": "python",
   "pygments_lexer": "ipython3",
   "version": "3.6.8"
  }
 },
 "nbformat": 4,
 "nbformat_minor": 5
}
