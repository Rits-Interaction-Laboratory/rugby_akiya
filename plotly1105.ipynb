{
 "cells": [
  {
   "cell_type": "code",
   "execution_count": 2,
   "id": "bdc98a8d",
   "metadata": {},
   "outputs": [
    {
     "data": {
      "application/vnd.jupyter.widget-view+json": {
       "model_id": "8fcc1c655a09435bb31d5591f82b007f",
       "version_major": 2,
       "version_minor": 0
      },
      "text/plain": [
       "FigureWidget({\n",
       "    'data': [{'marker': {'color': 'rgb(100,100,200)', 'opacity': 0.8, 'size': 3},\n",
       "             …"
      ]
     },
     "metadata": {},
     "output_type": "display_data"
    },
    {
     "name": "stdout",
     "output_type": "stream",
     "text": [
      "ok1\n",
      "ok\n"
     ]
    }
   ],
   "source": [
    "from numpy.core.numeric import tensordot\n",
    "import pyrealsense2 as rs\n",
    "import numpy as np\n",
    "import cv2\n",
    "import os\n",
    "import time\n",
    "import mediapipe as mp\n",
    "import math\n",
    "import csv\n",
    "import plotly.offline as po\n",
    "#import plotly.graph_objs as go\n",
    "import plotly.graph_objects as go\n",
    "import pandas as pd\n",
    "\n",
    "#po.init_notebook_mode(connected=True)\n",
    "\n",
    "mp_drawing = mp.solutions.drawing_utils\n",
    "mp_pose = mp.solutions.pose\n",
    "\n",
    "# make dir\n",
    "timestr = time.strftime(\"%y%m%d-%H%M%S\")\n",
    "dirname = \"recordimages/%s\" % timestr\n",
    "os.makedirs(dirname)\n",
    "\n",
    "\n",
    "# ストリーム(Depth/Color)の設定\n",
    "w = 1280\n",
    "h = 720\n",
    "config = rs.config()\n",
    "\n",
    "config.enable_stream(rs.stream.color, w, h, rs.format.bgr8, 30)\n",
    "\n",
    "config.enable_stream(rs.stream.depth, w, h, rs.format.z16, 30)\n",
    "#\n",
    "#config.enable_stream(rs.stream.color, 640, 360, rs.format.bgr8, 30)\n",
    "#\n",
    "#config.enable_stream(rs.stream.depth, 640, 360, rs.format.z16, 30)\n",
    "\n",
    "# ストリーミング開始\n",
    "# pipeline = rs.pipeline()\n",
    "# profile = pipeline.start(config)\n",
    "\n",
    "# Alignオブジェクト生成\n",
    "align_to = rs.stream.color\n",
    "align = rs.align(align_to)\n",
    "\n",
    "\n",
    "try:\n",
    "    count = 0\n",
    "\n",
    "    with open('%s.csv' % timestr, 'w', newline=\"\") as f:\n",
    "        writer = csv.writer(f)\n",
    "\n",
    "        # CSVファイルの1行目を書き込み\n",
    "        csv_header = [\"FrameNo.\", \"label\", \"label_count\", \"1_x\", \"1_x_est\", \"1_x_err\", \"1_y\", \"1_y_est\", \"1_y_err\", \"1_z\", \"1_z_est\", \"1_z_err\", \"2_x\", \"2_x_est\", \"2_x_err\", \"2_y\", \"2_y_est\", \"2_y_err\", \"2_z\", \"2_z_est\", \"2_z_err\", \"upperarm01.L_x\", \"upperarm01.L_x_est\", \"upperarm01.L_x_err\", \"upperarm01.L_y\", \"upperarm01.L_y_est\", \"upperarm01.L_y_err\", \"upperarm01.L_z\", \"upperarm01.L_z_est\", \"upperarm01.L_z_err\", \"upperarm01.R_x\", \"upperarm01.R_x_est\", \"upperarm01.R_x_err\", \"upperarm01.R_y\", \"upperarm01.R_y_est\", \"upperarm01.R_y_err\", \"upperarm01.R_z\", \"upperarm01.R_z_est\", \"upperarm01.R_z_err\", \"LELB_x\", \"LELB_x_est\", \"LELB_x_err\", \"LELB_y\", \"LELB_y_est\", \"LELB_y_err\", \"LELB_z\", \"LELB_z_est\", \"LELB_z_err\", \"LIEL_x\", \"LIEL_x_est\", \"LIEL_x_err\", \"LIEL_y\", \"LIEL_y_est\", \"LIEL_y_err\", \"LIEL_z\", \"LIEL_z_est\", \"LIEL_z_err\", \"RELB_x\", \"RELB_x_est\", \"RELB_x_err\", \"RELB_y\", \"RELB_y_est\", \"RELB_y_err\", \"RELB_z\", \"RELB_z_est\", \"RELB_z_err\", \"RIEL_x\", \"RIEL_x_est\", \"RIEL_x_err\", \"RIEL_y\", \"RIEL_y_est\", \"RIEL_y_err\", \"RIEL_z\", \"RIEL_z_est\", \"RIEL_z_err\", \"LIWR_x\", \"LIWR_x_est\", \"LIWR_x_err\", \"LIWR_y\", \"LIWR_y_est\", \"LIWR_y_err\", \"LIWR_z\", \"LIWR_z_est\", \"LIWR_z_err\", \"LOWR_x\", \"LOWR_x_est\", \"LOWR_x_err\", \"LOWR_y\", \"LOWR_y_est\", \"LOWR_y_err\", \"LOWR_z\", \"LOWR_z_est\", \"LOWR_z_err\", \"_x\", \"_x_est\", \"_x_err\", \"_y\", \"_y_est\", \"_y_err\", \"_z\", \"_z_est\",\n",
    "                      \"_z_err\", \"RIWR_x\", \"RIWR_x_est\", \"RIWR_x_err\", \"RIWR_y\", \"RIWR_y_est\", \"RIWR_y_err\", \"RIWR_z\", \"RIWR_z_est\", \"RIWR_z_err\", \"ROWR_x\", \"ROWR_x_est\", \"ROWR_x_err\", \"ROWR_y\", \"ROWR_y_est\", \"ROWR_y_err\", \"ROWR_z\", \"ROWR_z_est\", \"ROWR_z_err\", \"E_x\", \"E_x_est\", \"E_x_err\", \"E_y\", \"E_y_est\", \"E_y_err\", \"E_z\", \"E_z_est\", \"E_z_err\", \"5_x\", \"5_x_est\", \"5_x_err\", \"5_y\", \"5_y_est\", \"5_y_err\", \"5_z\", \"5_z_est\", \"5_z_err\", \"6_x\", \"6_x_est\", \"6_x_err\", \"6_y\", \"6_y_est\", \"6_y_err\", \"6_z\", \"6_z_est\", \"6_z_err\", \"7_x\", \"7_x_est\", \"7_x_err\", \"7_y\", \"7_y_est\", \"7_y_err\", \"7_z\", \"7_z_est\", \"7_z_err\", \"8_x\", \"8_x_est\", \"8_x_err\", \"8_y\", \"8_y_est\", \"8_y_err\", \"8_z\", \"8_z_est\", \"8_z_err\", \"9_x\", \"9_x_est\", \"9_x_err\", \"9_y\", \"9_y_est\", \"9_y_err\", \"9_z\", \"9_z_est\", \"9_z_err\", \"10_x\", \"10_x_est\", \"10_x_err\", \"10_y\", \"10_y_est\", \"10_y_err\", \"10_z\", \"10_z_est\", \"10_z_err\", \"11_x\", \"11_x_est\", \"11_x_err\", \"11_y\", \"11_y_est\", \"11_y_err\", \"11_z\", \"11_z_est\", \"11_z_err\", \"_x\", \"_x_est\", \"_x_err\", \"_y\", \"_y_est\", \"_y_err\", \"_z\", \"_z_est\", \"_z_err\", \"LHEE_x\", \"LHEE_x_est\", \"LHEE_x_err\", \"LHEE_y\", \"LHEE_y_est\", \"LHEE_y_err\", \"LHEE_z\", \"LHEE_z_est\", \"LHEE_z_err\", \"E_x\", \"E_x_est\", \"E_x_err\", \"E_y\", \"E_y_est\", \"E_y_err\", \"E_z\", \"E_z_est\", \"E_z_err\", \"RHEE_x\", \"RHEE_x_est\", \"RHEE_x_err\", \"RHEE_y\", \"RHEE_y_est\", \"RHEE_y_err\", \"RHEE_z\", \"RHEE_z_est\", \"RHEE_z_err\"]\n",
    "        writer.writerow(csv_header)\n",
    "            #カメラ位置\n",
    "        camera = dict(\n",
    "            eye = dict(x = 3.5, y = 0.05, z = 0.05 )\n",
    "        )\n",
    "\n",
    "        #traceを作成\n",
    "        data = []\n",
    "        marker_x = [1, 0, 0]\n",
    "        marker_y = [0, 2, 0]\n",
    "        marker_z = [0, 0, 3]\n",
    "        \n",
    "        #マーカー\n",
    "        data.append(go.Scatter3d(\n",
    "            x=marker_x,\n",
    "            y=marker_y,\n",
    "            z=marker_z,\n",
    "            mode='markers',\n",
    "            marker=dict(\n",
    "                color='rgb(100,100,200)',\n",
    "                size=3,\n",
    "                opacity=0.8\n",
    "            )\n",
    "        ))\n",
    "        \n",
    "#         layoutを作成\n",
    "        \n",
    "#         traceとlayoutからfigureを作成\n",
    "        fig = go.Figure(data=data)\n",
    "        \n",
    "        fig.update_layout(\n",
    "            height = 1000,\n",
    "            width = 500,\n",
    "            margin=dict(\n",
    "                l=0,\n",
    "                r=0,\n",
    "                b=0,\n",
    "                t=0\n",
    "            ),\n",
    "            #カメラ位置\n",
    "            scene_camera = camera,\n",
    "            scene=dict(\n",
    "                aspectmode = 'cube',\n",
    "                #aspectratio = dict(x=1, y=1, z=1),\n",
    "                xaxis = dict(range=[-10,10]),\n",
    "                yaxis = dict(range=[-10,10]),\n",
    "                zaxis = dict(range=[0,20])),\n",
    "            \n",
    "            #scene=dict(aspectmode='cube'),\n",
    "            showlegend=False,\n",
    "            )\n",
    "        f2 = go.FigureWidget(fig)\n",
    "        display(f2)\n",
    "    \n",
    "        \n",
    "        print(\"ok1\")\n",
    "        #fig.show()\n",
    "\n",
    "\n",
    "finally:\n",
    "    print(\"ok\")\n",
    "\n",
    "    # ストリーミング停止\n",
    "#     pipeline.stop()"
   ]
  },
  {
   "cell_type": "code",
   "execution_count": 7,
   "id": "23a3e16a",
   "metadata": {},
   "outputs": [
    {
     "data": {
      "text/plain": [
       "Scatter3d({\n",
       "    'marker': {'color': 'rgb(100,100,200)', 'opacity': 0.8, 'size': 3},\n",
       "    'mode': 'markers',\n",
       "    'x': [1, 1, 0],\n",
       "    'y': [0, 2, 0],\n",
       "    'z': [0, 0, 3]\n",
       "})"
      ]
     },
     "execution_count": 7,
     "metadata": {},
     "output_type": "execute_result"
    }
   ],
   "source": [
    "data[0]"
   ]
  },
  {
   "cell_type": "code",
   "execution_count": 12,
   "id": "33330c28",
   "metadata": {
    "scrolled": true
   },
   "outputs": [
    {
     "data": {
      "application/vnd.jupyter.widget-view+json": {
       "model_id": "0b436b5629994add9e8b931618825e8c",
       "version_major": 2,
       "version_minor": 0
      },
      "text/plain": [
       "FigureWidget({\n",
       "    'data': [{'marker': {'color': 'rgb(100,100,200)', 'opacity': 0.8, 'size': 3},\n",
       "             …"
      ]
     },
     "metadata": {},
     "output_type": "display_data"
    },
    {
     "data": {
      "application/vnd.jupyter.widget-view+json": {
       "model_id": "0b436b5629994add9e8b931618825e8c",
       "version_major": 2,
       "version_minor": 0
      },
      "text/plain": [
       "FigureWidget({\n",
       "    'data': [{'marker': {'color': 'rgb(100,100,200)', 'opacity': 0.8, 'size': 3},\n",
       "             …"
      ]
     },
     "metadata": {},
     "output_type": "display_data"
    },
    {
     "data": {
      "application/vnd.jupyter.widget-view+json": {
       "model_id": "0b436b5629994add9e8b931618825e8c",
       "version_major": 2,
       "version_minor": 0
      },
      "text/plain": [
       "FigureWidget({\n",
       "    'data': [{'marker': {'color': 'rgb(100,100,200)', 'opacity': 0.8, 'size': 3},\n",
       "             …"
      ]
     },
     "metadata": {},
     "output_type": "display_data"
    },
    {
     "data": {
      "application/vnd.jupyter.widget-view+json": {
       "model_id": "0b436b5629994add9e8b931618825e8c",
       "version_major": 2,
       "version_minor": 0
      },
      "text/plain": [
       "FigureWidget({\n",
       "    'data': [{'marker': {'color': 'rgb(100,100,200)', 'opacity': 0.8, 'size': 3},\n",
       "             …"
      ]
     },
     "metadata": {},
     "output_type": "display_data"
    },
    {
     "data": {
      "application/vnd.jupyter.widget-view+json": {
       "model_id": "0b436b5629994add9e8b931618825e8c",
       "version_major": 2,
       "version_minor": 0
      },
      "text/plain": [
       "FigureWidget({\n",
       "    'data': [{'marker': {'color': 'rgb(100,100,200)', 'opacity': 0.8, 'size': 3},\n",
       "             …"
      ]
     },
     "metadata": {},
     "output_type": "display_data"
    },
    {
     "data": {
      "application/vnd.jupyter.widget-view+json": {
       "model_id": "0b436b5629994add9e8b931618825e8c",
       "version_major": 2,
       "version_minor": 0
      },
      "text/plain": [
       "FigureWidget({\n",
       "    'data': [{'marker': {'color': 'rgb(100,100,200)', 'opacity': 0.8, 'size': 3},\n",
       "             …"
      ]
     },
     "metadata": {},
     "output_type": "display_data"
    },
    {
     "data": {
      "application/vnd.jupyter.widget-view+json": {
       "model_id": "0b436b5629994add9e8b931618825e8c",
       "version_major": 2,
       "version_minor": 0
      },
      "text/plain": [
       "FigureWidget({\n",
       "    'data': [{'marker': {'color': 'rgb(100,100,200)', 'opacity': 0.8, 'size': 3},\n",
       "             …"
      ]
     },
     "metadata": {},
     "output_type": "display_data"
    },
    {
     "data": {
      "application/vnd.jupyter.widget-view+json": {
       "model_id": "0b436b5629994add9e8b931618825e8c",
       "version_major": 2,
       "version_minor": 0
      },
      "text/plain": [
       "FigureWidget({\n",
       "    'data': [{'marker': {'color': 'rgb(100,100,200)', 'opacity': 0.8, 'size': 3},\n",
       "             …"
      ]
     },
     "metadata": {},
     "output_type": "display_data"
    },
    {
     "data": {
      "application/vnd.jupyter.widget-view+json": {
       "model_id": "0b436b5629994add9e8b931618825e8c",
       "version_major": 2,
       "version_minor": 0
      },
      "text/plain": [
       "FigureWidget({\n",
       "    'data': [{'marker': {'color': 'rgb(100,100,200)', 'opacity': 0.8, 'size': 3},\n",
       "             …"
      ]
     },
     "metadata": {},
     "output_type": "display_data"
    },
    {
     "data": {
      "application/vnd.jupyter.widget-view+json": {
       "model_id": "0b436b5629994add9e8b931618825e8c",
       "version_major": 2,
       "version_minor": 0
      },
      "text/plain": [
       "FigureWidget({\n",
       "    'data': [{'marker': {'color': 'rgb(100,100,200)', 'opacity': 0.8, 'size': 3},\n",
       "             …"
      ]
     },
     "metadata": {},
     "output_type": "display_data"
    },
    {
     "data": {
      "application/vnd.jupyter.widget-view+json": {
       "model_id": "0b436b5629994add9e8b931618825e8c",
       "version_major": 2,
       "version_minor": 0
      },
      "text/plain": [
       "FigureWidget({\n",
       "    'data': [{'marker': {'color': 'rgb(100,100,200)', 'opacity': 0.8, 'size': 3},\n",
       "             …"
      ]
     },
     "metadata": {},
     "output_type": "display_data"
    },
    {
     "data": {
      "application/vnd.jupyter.widget-view+json": {
       "model_id": "0b436b5629994add9e8b931618825e8c",
       "version_major": 2,
       "version_minor": 0
      },
      "text/plain": [
       "FigureWidget({\n",
       "    'data': [{'marker': {'color': 'rgb(100,100,200)', 'opacity': 0.8, 'size': 3},\n",
       "             …"
      ]
     },
     "metadata": {},
     "output_type": "display_data"
    },
    {
     "data": {
      "application/vnd.jupyter.widget-view+json": {
       "model_id": "0b436b5629994add9e8b931618825e8c",
       "version_major": 2,
       "version_minor": 0
      },
      "text/plain": [
       "FigureWidget({\n",
       "    'data': [{'marker': {'color': 'rgb(100,100,200)', 'opacity': 0.8, 'size': 3},\n",
       "             …"
      ]
     },
     "metadata": {},
     "output_type": "display_data"
    },
    {
     "data": {
      "application/vnd.jupyter.widget-view+json": {
       "model_id": "0b436b5629994add9e8b931618825e8c",
       "version_major": 2,
       "version_minor": 0
      },
      "text/plain": [
       "FigureWidget({\n",
       "    'data': [{'marker': {'color': 'rgb(100,100,200)', 'opacity': 0.8, 'size': 3},\n",
       "             …"
      ]
     },
     "metadata": {},
     "output_type": "display_data"
    },
    {
     "data": {
      "application/vnd.jupyter.widget-view+json": {
       "model_id": "0b436b5629994add9e8b931618825e8c",
       "version_major": 2,
       "version_minor": 0
      },
      "text/plain": [
       "FigureWidget({\n",
       "    'data': [{'marker': {'color': 'rgb(100,100,200)', 'opacity': 0.8, 'size': 3},\n",
       "             …"
      ]
     },
     "metadata": {},
     "output_type": "display_data"
    },
    {
     "data": {
      "application/vnd.jupyter.widget-view+json": {
       "model_id": "0b436b5629994add9e8b931618825e8c",
       "version_major": 2,
       "version_minor": 0
      },
      "text/plain": [
       "FigureWidget({\n",
       "    'data': [{'marker': {'color': 'rgb(100,100,200)', 'opacity': 0.8, 'size': 3},\n",
       "             …"
      ]
     },
     "metadata": {},
     "output_type": "display_data"
    },
    {
     "data": {
      "application/vnd.jupyter.widget-view+json": {
       "model_id": "0b436b5629994add9e8b931618825e8c",
       "version_major": 2,
       "version_minor": 0
      },
      "text/plain": [
       "FigureWidget({\n",
       "    'data': [{'marker': {'color': 'rgb(100,100,200)', 'opacity': 0.8, 'size': 3},\n",
       "             …"
      ]
     },
     "metadata": {},
     "output_type": "display_data"
    },
    {
     "data": {
      "application/vnd.jupyter.widget-view+json": {
       "model_id": "0b436b5629994add9e8b931618825e8c",
       "version_major": 2,
       "version_minor": 0
      },
      "text/plain": [
       "FigureWidget({\n",
       "    'data': [{'marker': {'color': 'rgb(100,100,200)', 'opacity': 0.8, 'size': 3},\n",
       "             …"
      ]
     },
     "metadata": {},
     "output_type": "display_data"
    },
    {
     "data": {
      "application/vnd.jupyter.widget-view+json": {
       "model_id": "0b436b5629994add9e8b931618825e8c",
       "version_major": 2,
       "version_minor": 0
      },
      "text/plain": [
       "FigureWidget({\n",
       "    'data': [{'marker': {'color': 'rgb(100,100,200)', 'opacity': 0.8, 'size': 3},\n",
       "             …"
      ]
     },
     "metadata": {},
     "output_type": "display_data"
    },
    {
     "data": {
      "application/vnd.jupyter.widget-view+json": {
       "model_id": "0b436b5629994add9e8b931618825e8c",
       "version_major": 2,
       "version_minor": 0
      },
      "text/plain": [
       "FigureWidget({\n",
       "    'data': [{'marker': {'color': 'rgb(100,100,200)', 'opacity': 0.8, 'size': 3},\n",
       "             …"
      ]
     },
     "metadata": {},
     "output_type": "display_data"
    }
   ],
   "source": [
    "for i in range(20):\n",
    "    if i%2 == 0:\n",
    "        data[0]['x']=(1,0,0)\n",
    "    else:\n",
    "        data[0]['x']=(1,1,0)\n",
    "        \n",
    "    fig = go.Figure(data=data)\n",
    "    #f2 = go.FigureWidget(fig)\n",
    "    display(f2)"
   ]
  }
 ],
 "metadata": {
  "kernelspec": {
   "display_name": "pj_scraping",
   "language": "python",
   "name": "pj_scraping"
  },
  "language_info": {
   "codemirror_mode": {
    "name": "ipython",
    "version": 3
   },
   "file_extension": ".py",
   "mimetype": "text/x-python",
   "name": "python",
   "nbconvert_exporter": "python",
   "pygments_lexer": "ipython3",
   "version": "3.6.8"
  }
 },
 "nbformat": 4,
 "nbformat_minor": 5
}
