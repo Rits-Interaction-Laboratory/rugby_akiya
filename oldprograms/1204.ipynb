{
 "cells": [
  {
   "cell_type": "code",
   "execution_count": 1,
   "id": "a851d9b9",
   "metadata": {},
   "outputs": [
    {
     "name": "stdout",
     "output_type": "stream",
     "text": [
      "PyAutoGUI版\n",
      "2021-12-04 17:07:42.112077\n",
      "0:00:08.659295\n",
      "0:00:18.086449\n",
      "ok\n"
     ]
    }
   ],
   "source": [
    "from io import BytesIO\n",
    "# from PIL import ImageGrab\n",
    "import pyautogui\n",
    "import datetime\n",
    "\n",
    "screenshots = []\n",
    "contents = []\n",
    "count = 100\n",
    "num = 1\n",
    "\n",
    "# Pillow版\n",
    "# print(\"Pillow版\")\n",
    "# start = datetime.datetime.now()\n",
    "# print(start)\n",
    "\n",
    "# for i in range(count):\n",
    "#     screenshots.append(ImageGrab.grab())\n",
    "   \n",
    "# print(datetime.datetime.now() - start)\n",
    "\n",
    "# start = datetime.datetime.now()\n",
    "\n",
    "# for sc in screenshots:\n",
    "#     sc.save('sc' + str(num) + '.png')\n",
    "#     num += 1    \n",
    "\n",
    "# print(datetime.datetime.now() - start)\n",
    "\n",
    "# PyAutoGUI版\n",
    "print(\"PyAutoGUI版\")\n",
    "start = datetime.datetime.now()\n",
    "print(start)\n",
    "\n",
    "for i in range(count):\n",
    "    screenshots.append(pyautogui.screenshot())\n",
    "   \n",
    "print(datetime.datetime.now() - start)\n",
    "\n",
    "start = datetime.datetime.now()\n",
    "\n",
    "for sc in screenshots:\n",
    "    sc.save('sc' + str(num) + '.png')\n",
    "    num += 1    \n",
    "\n",
    "print(datetime.datetime.now() - start)\n",
    "    \n",
    "    \n",
    "print(\"ok\")"
   ]
  },
  {
   "cell_type": "code",
   "execution_count": null,
   "id": "a4f48129",
   "metadata": {},
   "outputs": [],
   "source": []
  }
 ],
 "metadata": {
  "kernelspec": {
   "display_name": "Python 3",
   "language": "python",
   "name": "python3"
  },
  "language_info": {
   "codemirror_mode": {
    "name": "ipython",
    "version": 3
   },
   "file_extension": ".py",
   "mimetype": "text/x-python",
   "name": "python",
   "nbconvert_exporter": "python",
   "pygments_lexer": "ipython3",
   "version": "3.6.8"
  }
 },
 "nbformat": 4,
 "nbformat_minor": 5
}
